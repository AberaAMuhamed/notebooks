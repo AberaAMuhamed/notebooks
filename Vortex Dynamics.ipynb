{
 "cells": [
  {
   "cell_type": "markdown",
   "metadata": {},
   "source": [
    "EVENTUAL TITLE OF MANUSCRIPT\n",
    "============================\n",
    "This notebook is the computational appendix of [arXiv:1605.XXXXX](http://arxiv.abs/1605.XXXXX). We spell out in detail how to obtain the numerical results in the manuscript. We rely on [Trotter-Suzuki-MPI](https://trotter-suzuki-mpi.github.io/), a massively parallel solver for the Gross--Pitaevskii equation, and its [Python wrapper](http://trotter-suzuki-mpi.readthedocs.org/). The calculations use only a single computer, but it can take many hours to finish them.\n",
    "\n",
    "Preliminaries\n",
    "-------------\n",
    "First we import the necessary modules and ensure that we get identical behaviour in Python 2 and 3."
   ]
  },
  {
   "cell_type": "code",
   "execution_count": null,
   "metadata": {
    "collapsed": true
   },
   "outputs": [],
   "source": [
    "from __future__ import print_function, division\n",
    "import trottersuzuki as ts\n",
    "import numpy as np\n",
    "import matplotlib.pyplot as plt"
   ]
  },
  {
   "cell_type": "markdown",
   "metadata": {},
   "source": [
    "We will generate some files to save the results of the calculations. By default, they will go the current directory:"
   ]
  },
  {
   "cell_type": "code",
   "execution_count": null,
   "metadata": {
    "collapsed": true
   },
   "outputs": [],
   "source": [
    "directory = \"\""
   ]
  },
  {
   "cell_type": "markdown",
   "metadata": {},
   "source": [
    "Next we define a series of helper functions that we will use later. The following function returns the coordinates of a vortex position:"
   ]
  },
  {
   "cell_type": "code",
   "execution_count": null,
   "metadata": {
    "collapsed": true
   },
   "outputs": [],
   "source": [
    "def vortex_position(grid, state, approx_cloud_radius):\n",
    "    delta_y = grid.length_y / float(grid.dim_y)\n",
    "    delta_x = grid.length_x / float(grid.dim_x)\n",
    "    matrix = state.get_phase()\n",
    "    # calculate norm gradient matrix\n",
    "    norm_grad = np.zeros((grid.dim_y, grid.dim_x))\n",
    "    for idy in range(1, grid.dim_y-1):\n",
    "        for idx in range(1, grid.dim_x-1):\n",
    "            if (idx-grid.dim_x*0.5)**2 + (idy-grid.dim_y*0.5)**2 < \\\n",
    "                    approx_cloud_radius**2/delta_x**2:\n",
    "                up = matrix[idy+1, idx]\n",
    "                dw = matrix[idy-1, idx]\n",
    "                rg = matrix[idy, idx+1]\n",
    "                lf = matrix[idy, idx-1]\n",
    "\n",
    "                if abs(up-dw) > np.pi:\n",
    "                    up -= np.sign(up) * 2. * np.pi\n",
    "                if abs(rg-lf) > np.pi:\n",
    "                    rg -= np.sign(rg) * 2. * np.pi\n",
    "\n",
    "                grad_x = (rg-lf)/(2.*delta_x)\n",
    "                grad_y = (up-dw)/(2.*delta_y)\n",
    "                norm_grad[idy, idx] = np.sqrt(grad_x**2 + grad_y**2)\n",
    "\n",
    "    max_norm = np.nanmax(norm_grad)\n",
    "    coord_x = []\n",
    "    coord_y = []\n",
    "    for idy in range(1, grid.dim_y-1):\n",
    "        for idx in range(1, grid.dim_x-1):\n",
    "            if norm_grad[idy, idx] >= max_norm*0.9:\n",
    "                coord_x.append((idx + 0.5) * delta_x - 0.5 * grid.length_x)\n",
    "                coord_y.append((idy + 0.5) * delta_y - 0.5 * grid.length_y)\n",
    "\n",
    "    coords = np.zeros(2)\n",
    "    for i in range(0, len(coord_x)):\n",
    "        coords[1] += coord_y[i] / float(len(coord_x))\n",
    "        coords[0] += coord_x[i] / float(len(coord_x))\n",
    "\n",
    "    return coords\n"
   ]
  },
  {
   "cell_type": "markdown",
   "metadata": {},
   "source": [
    "The following function plots heatmaps of the density and the phase:"
   ]
  },
  {
   "cell_type": "code",
   "execution_count": null,
   "metadata": {
    "collapsed": true
   },
   "outputs": [],
   "source": [
    "def heatmaps_of_density_and_phase(grid, state_a, state_b, hamiltonian,\n",
    "                                  imag_time, mathCalL, rho, cont, time, export,\n",
    "                                  show, x_pos_resc=None, y_pos_resc=None,\n",
    "                                  x_pos_2_resc=None, y_pos_2_resc=None):\n",
    "\n",
    "    if x_pos_resc is None:\n",
    "        x_pos_resc = []\n",
    "    if y_pos_resc is None:\n",
    "        y_pos_resc = []\n",
    "    if x_pos_2_resc is None:\n",
    "        x_pos_2_resc = []\n",
    "    if y_pos_2_resc is None:\n",
    "        y_pos_2_resc = []\n",
    "\n",
    "    x_ticks_1 = [0, grid.dim_x/4, grid.dim_x/2, 3*grid.dim_x/4, grid.dim_x]\n",
    "    x_ticks_2 = [str(-grid.length_x/2), str(-grid.length_x/4), '0',\n",
    "                 str(grid.length_x/4), str(grid.length_x/2)]\n",
    "    density_A = state_a.get_particle_density()\n",
    "    density_B = state_b.get_particle_density()\n",
    "    phase_A = state_a.get_phase()\n",
    "    phase_B = state_b.get_phase()\n",
    "    plt.figure(figsize=(19, 4))\n",
    "\n",
    "    title = ('$l_\\\\Omega/r_{12}=$ %4.3f,     $r_{12}/\\\\xi=$ %4.2f,     $g_{AB}/g=$ %4.2f,     $t/T_{\\\\rm Rabi}=$ %4.2f'\n",
    "             % (mathCalL, rho, hamiltonian.coupling_ab/hamiltonian.coupling_a,\n",
    "                (time*abs(hamiltonian.omega_r)/(2.*np.pi))))\n",
    "\n",
    "    plt.suptitle(title, fontsize=16)\n",
    "\n",
    "    data = [density_A, density_B, density_A-density_B, phase_A-phase_B]\n",
    "\n",
    "    x_centers = [x_pos_resc, x_pos_2_resc, x_pos_resc, x_pos_2_resc]\n",
    "    y_centers = [y_pos_resc, y_pos_2_resc, y_pos_resc, y_pos_2_resc]\n",
    "    cmaps = ['afmhot', 'afmhot', 'hsv', 'hsv']\n",
    "    for i in np.arange(len(data)):\n",
    "        plt.subplot(1, 4, i+1)\n",
    "        plt.xticks(x_ticks_1, x_ticks_2)\n",
    "        plt.yticks(x_ticks_1, x_ticks_2)\n",
    "        plt.pcolormesh(data[i], cmap=cmaps[i])\n",
    "        plt.plot(x_centers[i], y_centers[i], linewidth=.5, color='green',\n",
    "                 linestyle='solid', marker=None)\n",
    "        if i < 2:\n",
    "            color_indices = np.linspace(0, 10, len(x_centers[i]))\n",
    "            plt.scatter(x_centers[i], y_centers[i], c=color_indices, cmap='Greys_r')\n",
    "        else:\n",
    "            color_indices = np.linspace(0, 10, len(x_centers[1]))\n",
    "            plt.scatter(x_centers[1], y_centers[1], c=color_indices, cmap='Greys_r')\n",
    "            color_indices = np.linspace(0, 10, len(x_centers[2]))\n",
    "            plt.scatter(x_centers[2], y_centers[2], c=color_indices, cmap='Greys_r')\n",
    "\n",
    "    if export:\n",
    "        plt.savefig(directory + ('imagTime' if imag_time else 'realTime')\n",
    "                    + '_plots_' + str(cont).zfill(3) + '.png')\n",
    "    if not show:\n",
    "        plt.ioff()\n",
    "        plt.close()"
   ]
  },
  {
   "cell_type": "markdown",
   "metadata": {},
   "source": [
    "Precession of two vortices in a two-component BEC\n",
    "-------------------------------------------------\n",
    "Details of what goes on in the function should come here."
   ]
  },
  {
   "cell_type": "code",
   "execution_count": null,
   "metadata": {
    "collapsed": true
   },
   "outputs": [],
   "source": [
    "def two_vortices(lOmega_over_r12, r12_over_Xi12):\n",
    "    ## Fixed variables\n",
    "    length = 4.   # physical length of the lattice\n",
    "    initial_vortices_distance = 1.  # physical distance between vortices cores\n",
    "    n_0 = 4 / (np.pi * length**2)  # density at the center of the circular box\n",
    "\n",
    "    ### Lattice parameters\n",
    "    # Ensure that one coherence length will be equal to \"const\" spacings\n",
    "    const = 3.\n",
    "    dim = int(length * const * r12_over_Xi12)\n",
    "    print('Linear dimension of the Lattice:', dim)\n",
    "\n",
    "    ### Hamiltonian parameters\n",
    "    g_a = r12_over_Xi12**2 / (2. * n_0)\n",
    "    g_b = r12_over_Xi12**2 / (2. * n_0)\n",
    "    g_ab = 0\n",
    "    omega_rabi = -1. / (lOmega_over_r12**2)\n",
    "\n",
    "    ### Solver parameters\n",
    "    delta_t = 2.5e-5\n",
    "    Rabi_period = 2 * np.pi/omega_rabi\n",
    "    Rabi_periods_to_be_simulated = 0.5\n",
    "\n",
    "    # Function of the external potential\n",
    "    def external_potential(x, y):\n",
    "        if (x**2 + y**2) >= (length/2.1)**2:\n",
    "            return 1e10\n",
    "        else:\n",
    "            return 0.\n",
    "\n",
    "    # Initial wave function\n",
    "    def const_state(x, y):\n",
    "        return 1./length\n",
    "\n",
    "    # Define the vortex in component 1\n",
    "    def vortex_a(x, y):\n",
    "        z = (x-initial_vortices_distance/2.) + 1j*y\n",
    "        angle = np.angle(z)\n",
    "        return np.exp(1j * angle)\n",
    "\n",
    "    # Define the vortex in component 2\n",
    "    def vortex_b(x, y):\n",
    "        z = (x+initial_vortices_distance/2.) + 1j*y\n",
    "        angle = np.angle(z)\n",
    "        return np.exp(1j * angle)\n",
    "\n",
    "    # Set the geometry of the simulation\n",
    "    grid = ts.Lattice(dim, length, length)\n",
    "    # real time hamiltonian\n",
    "    potential = ts.Potential(grid)\n",
    "    potential.init_potential(external_potential)\n",
    "    hamiltonian = ts.Hamiltonian2Component(grid, potential, potential, 1., 1.,\n",
    "                                           g_a, g_ab, g_b, omega_rabi)\n",
    "\n",
    "    state_a = ts.State(grid)  # Initialize the state in the first component\n",
    "    state_b = ts.State(grid)  # Initialize the state in the second component\n",
    "    state_a.init_state(const_state)\n",
    "    state_b.init_state(const_state)\n",
    "\n",
    "    # Print the vortexes\n",
    "    state_a.imprint(vortex_a)\n",
    "    state_b.imprint(vortex_b)\n",
    "\n",
    "    # Initialize the solver\n",
    "    solver = ts.Solver(grid, state_a, state_b, hamiltonian, delta_t)\n",
    "\n",
    "    heatmaps_of_density_and_phase(grid, state_a, state_b, hamiltonian, True,\n",
    "                                  lOmega_over_r12, r12_over_Xi12, 0, 0, True,\n",
    "                                  False)\n",
    "\n",
    "    iterations = 500\n",
    "    coord_a = vortex_position(grid, state_a, length*0.45)\n",
    "    coord_b = vortex_position(grid, state_b, length*0.45)\n",
    "    vortex_distance = np.sqrt((coord_b[0]-coord_a[0])**2 +\n",
    "                              (coord_b[1]-coord_a[1])**2)\n",
    "    cont = 0\n",
    "\n",
    "    for cont in range(6):\n",
    "        solver.evolve(iterations, True)  # imaginary time evolution\n",
    "        print(cont)\n",
    "        time = (cont + 1) * iterations * delta_t\n",
    "        coord_a = vortex_position(grid, state_a, length*0.45)\n",
    "        coord_b = vortex_position(grid, state_b, length*0.45)\n",
    "        vortex_distance = np.sqrt((coord_b[0]-coord_a[0])**2 +\n",
    "                                  (coord_b[1]-coord_a[1])**2)\n",
    "        heatmaps_of_density_and_phase(grid, state_a, state_b, hamiltonian,\n",
    "                                      True, lOmega_over_r12, r12_over_Xi12,\n",
    "                                      cont+1, time, True, False)\n",
    "    print('---Imaginary evolution completed---')\n",
    "\n",
    "    coord_a = vortex_position(grid, state_a, length*0.45)\n",
    "    coord_b = vortex_position(grid, state_b, length*0.45)\n",
    "    vortex_distance = np.sqrt((coord_b[0]-coord_a[0])**2 +\n",
    "                              (coord_b[1]-coord_a[1])**2)\n",
    "\n",
    "    out_file = open(str(lOmega_over_r12) + \"_\" + str(r12_over_Xi12), \"w\")\n",
    "    out_file.write('Vortices distance before real time evolution: ' + str(vortex_distance) + \"\\n\")\n",
    "\n",
    "    print('Vortices distance before real time evolution:', vortex_distance)\n",
    "    print('---Start real time evolution---')\n",
    "    frames_per_Rabi_period = 20\n",
    "    iterations = abs(int(Rabi_period / delta_t / frames_per_Rabi_period))\n",
    "    max_it_real_time = int(frames_per_Rabi_period * Rabi_periods_to_be_simulated)\n",
    "    print('Iterations between two snapshots:', iterations)\n",
    "    print('Number of snapshots:', max_it_real_time)\n",
    "\n",
    "    x_pos, y_pos = [], []\n",
    "    x_pos_2, y_pos_2 = [], []\n",
    "    radius_1, radius_2  = [], []\n",
    "    angles_12 = []\n",
    "    for cont in range(0, max_it_real_time):\n",
    "        solver.evolve(iterations)\n",
    "        coord_a = vortex_position(grid, state_a, length*0.45)\n",
    "        coord_b = vortex_position(grid, state_b, length*0.45)\n",
    "        time = (cont + 1) * iterations * delta_t\n",
    "        print('Snapshot:', cont)\n",
    "\n",
    "        radius_1.append(np.sqrt(coord_a[0]**2 + coord_a[1]**2))\n",
    "        radius_2.append(np.sqrt(coord_b[0]**2 + coord_b[1]**2))\n",
    "        angles_12.append(np.angle(coord_a[0] - coord_b[0] +\n",
    "                                  1j * (coord_a[1] - coord_b[1])))\n",
    "\n",
    "        # plot\n",
    "        x_pos.append((coord_a[0] + length*0.5) / grid.delta_x)\n",
    "        y_pos.append((coord_a[1] + length*0.5) / grid.delta_y)\n",
    "        x_pos_2.append((coord_b[0] + length*0.5) / grid.delta_x)\n",
    "        y_pos_2.append((coord_b[1] + length*0.5) / grid.delta_y)\n",
    "        heatmaps_of_density_and_phase(grid, state_a, state_b, hamiltonian,\n",
    "                                      False, lOmega_over_r12, r12_over_Xi12,\n",
    "                                      cont, time, True, False, x_pos, y_pos,\n",
    "                                      x_pos_2, y_pos_2)\n",
    "\n",
    "    prec_freq_12 = np.zeros(len(x_pos)-1)\n",
    "    for ind in range(0, len(x_pos)-1):\n",
    "        if abs(angles_12[ind+1] - angles_12[ind]) > np.pi:\n",
    "            angles_12[ind+1] -= np.sign(angles_12[ind+1]) * 2. * np.pi\n",
    "        prec_freq_12[ind] = (angles_12[ind+1] - angles_12[ind]) / (iterations *\n",
    "                                                                   delta_t)\n",
    "\n",
    "    print('Mean freq of precession over rabi coupling:', np.mean(prec_freq_12) / omega_rabi)\n",
    "    print('Expected result from eq(11) notes:', np.log(length / vortex_distance))\n",
    "    print('Expected result from eq(12) notes:', 4.*np.sqrt(2.) / np.pi / np.sqrt(abs(omega_rabi)) / vortex_distance)\n",
    "\n",
    "    out_file.write('Mean freq of precession over rabi coupling: ' + str(np.mean(prec_freq_12) / omega_rabi) + \"\\n\")\n",
    "    out_file.write('Theoretical eq(11) notes: ' + str(np.log(length / vortex_distance)) + \"\\n\")\n",
    "    out_file.write('Theoretical eq(12) notes: ' + str(4.*np.sqrt(2.) / np.pi / np.sqrt(abs(omega_rabi)) / vortex_distance) + \"\\n\")\n",
    "    out_file.close()\n",
    "\n",
    "    plt.plot(radius_1)\n",
    "    plt.xlabel('time')\n",
    "    plt.ylabel('distance vortex 1 to lattice center')\n",
    "    plt.savefig(str(lOmega_over_r12) + \"_\" + str(r12_over_Xi12) + \"_radius1.png\")\n",
    "    plt.close()\n",
    "\n",
    "    plt.plot(angles_12)\n",
    "    plt.xlabel('time')\n",
    "    plt.ylabel('angles between x-axis and the vector joining the center of two vortices')\n",
    "    plt.savefig(str(lOmega_over_r12) + \"_\" + str(r12_over_Xi12) + \"_angles12.png\")\n",
    "    plt.close()\n",
    "\n",
    "    plt.plot(prec_freq_12)\n",
    "    plt.xlabel('time')\n",
    "    plt.ylabel('Precession frequency')\n",
    "    plt.savefig(str(lOmega_over_r12) + \"_\" + str(r12_over_Xi12) + \"_frequence_precession.png\")\n",
    "    plt.close()"
   ]
  },
  {
   "cell_type": "markdown",
   "metadata": {},
   "source": [
    "We explore the parameter space:"
   ]
  },
  {
   "cell_type": "code",
   "execution_count": null,
   "metadata": {
    "collapsed": false
   },
   "outputs": [],
   "source": [
    "lOmega_over_r12 = 0.25\n",
    "r12_over_Xi12 = 30.\n",
    "two_vortices(lOmega_over_r12, r12_over_Xi12)"
   ]
  },
  {
   "cell_type": "markdown",
   "metadata": {},
   "source": [
    "Transfer of a single vortex between a two-component BEC\n",
    "-------------------------------------------------------\n",
    "Gory details here."
   ]
  },
  {
   "cell_type": "code",
   "execution_count": null,
   "metadata": {
    "collapsed": true
   },
   "outputs": [],
   "source": []
  },
  {
   "cell_type": "markdown",
   "metadata": {},
   "source": [
    "Oscillations of the relative density\n",
    "------------------------------------\n",
    "Even more gory details here."
   ]
  },
  {
   "cell_type": "code",
   "execution_count": null,
   "metadata": {
    "collapsed": true
   },
   "outputs": [],
   "source": []
  }
 ],
 "metadata": {
  "kernelspec": {
   "display_name": "Python 3",
   "language": "python",
   "name": "python3"
  },
  "language_info": {
   "codemirror_mode": {
    "name": "ipython",
    "version": 3
   },
   "file_extension": ".py",
   "mimetype": "text/x-python",
   "name": "python",
   "nbconvert_exporter": "python",
   "pygments_lexer": "ipython3",
   "version": "3.4.3"
  }
 },
 "nbformat": 4,
 "nbformat_minor": 0
}
